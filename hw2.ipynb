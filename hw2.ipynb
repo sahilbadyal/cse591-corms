{
 "cells": [
  {
   "cell_type": "code",
   "execution_count": 1,
   "metadata": {},
   "outputs": [],
   "source": [
    "def distance(point_one, point_two):\n",
    "    return ((point_one[0] - point_two[0]) ** 2 +\n",
    "            (point_one[1] - point_two[1]) ** 2) ** 0.5"
   ]
  },
  {
   "cell_type": "code",
   "execution_count": 11,
   "metadata": {},
   "outputs": [],
   "source": [
    "\n",
    "def findNeighbors(coordinates,threshold):\n",
    "    x  = list(map(distance, coordinates, coordinates[1:]))\n",
    "    print(len(list(x)))\n",
    "    print(x)"
   ]
  },
  {
   "cell_type": "code",
   "execution_count": 12,
   "metadata": {},
   "outputs": [
    {
     "name": "stdout",
     "output_type": "stream",
     "text": [
      "3\n",
      "[1.0, 1.4142135623730951, 0.7653668647301795]\n"
     ]
    }
   ],
   "source": [
    "findNeighbors([[0,0],[1,0],[0,1],[1/(2**0.5),1/(2**0.5)]],0.5)"
   ]
  },
  {
   "cell_type": "code",
   "execution_count": 65,
   "metadata": {},
   "outputs": [],
   "source": [
    "from scipy.spatial.distance import cdist \n",
    "import numpy as np\n",
    "\n",
    "def sortSecond(val): \n",
    "    return val[1]\n",
    "\n",
    "def rendezvousPGO(coordinates,terror,threshold):\n",
    "    dis = cdist(coordinates,coordinates)\n",
    "    distance = [[(i,x) for i,x in enumerate(y)] for y in dis]\n",
    "    iterror = [(i,x) for i,x in enumerate(terror)]\n",
    "    #neighbors = dis <= threshold\n",
    "    for y in distance:\n",
    "        y.sort(key=sortSecond)\n",
    "        print(y)\n",
    "        \n",
    "    staticRobots = list(filter(lambda f: f[1] > threshold,iterror))\n",
    "    respondingRobots = list(filter(lambda f: f[1] <= threshold, iterror))\n",
    "    \n",
    "    generatePrefList()\n",
    "    \n",
    "    getAStableMatchingSolution()\n",
    "    \n",
    "    print(staticRobots)\n",
    "    print(respondingRobots)\n",
    "    \n",
    "    for rrobot,_ in respondingRobots:\n",
    "        minDistanceRobot = \n",
    "        for srobot, terr in staticRobots:\n",
    "            \n",
    "    '''\n",
    "    for i,terr in enumerate(terror):\n",
    "        for j,jterr in enumerate(terror):\n",
    "            if(neighbors[i][j]){\n",
    "                \n",
    "            }'''\n",
    "        \n",
    "    #neighbours = findNeighbors(coordinates,threshold)"
   ]
  },
  {
   "cell_type": "code",
   "execution_count": 66,
   "metadata": {},
   "outputs": [
    {
     "name": "stdout",
     "output_type": "stream",
     "text": [
      "[(0, 0.0), (1, 1.0), (2, 1.0)]\n",
      "[(1, 0.0), (0, 1.0), (2, 1.4142135623730951)]\n",
      "[(2, 0.0), (0, 1.0), (1, 1.4142135623730951)]\n",
      "[(2, 1.43), (3, 1.67)]\n",
      "[(0, 0.5), (1, 1.4), (4, 1.2)]\n"
     ]
    }
   ],
   "source": [
    "rendezvousPGO([[0,0],[1,0],[0,1]],[0.50,1.40,1.43,1.67,1.20],1.4)"
   ]
  },
  {
   "cell_type": "code",
   "execution_count": null,
   "metadata": {},
   "outputs": [],
   "source": []
  },
  {
   "cell_type": "code",
   "execution_count": null,
   "metadata": {},
   "outputs": [],
   "source": []
  }
 ],
 "metadata": {
  "kernelspec": {
   "display_name": "Python 3",
   "language": "python",
   "name": "python3"
  },
  "language_info": {
   "codemirror_mode": {
    "name": "ipython",
    "version": 3
   },
   "file_extension": ".py",
   "mimetype": "text/x-python",
   "name": "python",
   "nbconvert_exporter": "python",
   "pygments_lexer": "ipython3",
   "version": "3.7.4"
  }
 },
 "nbformat": 4,
 "nbformat_minor": 2
}
