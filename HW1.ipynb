{
 "cells": [
  {
   "cell_type": "code",
   "execution_count": 1,
   "metadata": {},
   "outputs": [],
   "source": [
    "'''\n",
    "This is an O(n) algorithm for updating the height of a node once it has lost all its outgoing links\n",
    "'''\n",
    "def PRA(hi,neighbours):\n",
    "    alpha = float('inf')\n",
    "    beta  = hi[1] + 1\n",
    "    foundSameAlpha = False\n",
    "    for a,b,i in neighbours:\n",
    "        if (a == alpha):\n",
    "            if(not foundSameAlpha):\n",
    "                beta = float('inf')\n",
    "                foundSameAlpha = True\n",
    "            if(b < beta):\n",
    "                beta = b\n",
    "        elif (a < alpha):\n",
    "            alpha = a\n",
    "            if(foundSameAlpha):\n",
    "                beta = float('inf')\n",
    "    return [alpha + 1, beta - 1 , hi[2]]\n",
    "        "
   ]
  },
  {
   "cell_type": "code",
   "execution_count": 2,
   "metadata": {},
   "outputs": [
    {
     "data": {
      "text/plain": [
       "[2, 2, 0]"
      ]
     },
     "execution_count": 2,
     "metadata": {},
     "output_type": "execute_result"
    }
   ],
   "source": [
    "PRA([1,2,0],[[2,3,1],[1,2,2],[3,2,3],[2,5,4]])"
   ]
  },
  {
   "cell_type": "code",
   "execution_count": 3,
   "metadata": {},
   "outputs": [
    {
     "data": {
      "text/plain": [
       "[2, 5, 0]"
      ]
     },
     "execution_count": 3,
     "metadata": {},
     "output_type": "execute_result"
    }
   ],
   "source": [
    "PRA([1,5,0],[[2,3,1],[1,2,2],[3,2,3]])"
   ]
  },
  {
   "cell_type": "code",
   "execution_count": 4,
   "metadata": {},
   "outputs": [],
   "source": [
    "import numpy as np\n",
    "\n",
    "def noIncomingLinks(i,adjMatrix):\n",
    "    return np.sum(adjMatrix[:,i]) == 0\n",
    "\n",
    "def noOutGoingLinks(i,adjMatrix):\n",
    "    return np.sum(adjMatrix[i]) == 0            "
   ]
  },
  {
   "cell_type": "code",
   "execution_count": 5,
   "metadata": {},
   "outputs": [],
   "source": [
    "import numpy as np\n",
    "x = np.array([[2,3,1],[1,2,2],[3,2,3]])"
   ]
  },
  {
   "cell_type": "code",
   "execution_count": 6,
   "metadata": {},
   "outputs": [
    {
     "data": {
      "text/plain": [
       "array([2, 1, 3])"
      ]
     },
     "execution_count": 6,
     "metadata": {},
     "output_type": "execute_result"
    }
   ],
   "source": [
    "x[:,0]"
   ]
  },
  {
   "cell_type": "code",
   "execution_count": 7,
   "metadata": {},
   "outputs": [],
   "source": [
    "def findConnectedComponent(electedLeader, adjMatrix):\n",
    "    roots = [electedLeader]\n",
    "    connections = []\n",
    "    for i in roots:\n",
    "        children = []\n",
    "        for j in range(len(adjMatrix)):\n",
    "            if(adjMatrix[j][i]==1):\n",
    "                children.append(j)\n",
    "                if not j in roots:\n",
    "                    roots.append(j)\n",
    "        connections.append(children)\n",
    "    return roots,connections"
   ]
  },
  {
   "cell_type": "code",
   "execution_count": 8,
   "metadata": {},
   "outputs": [],
   "source": [
    "def LEG1(adjMatrix, heightMatrix, electedLeader):\n",
    "    N = len(adjMatrix)\n",
    "    cc,rr = findConnectedComponent(electedLeader, adjMatrix)\n",
    "    print(cc,rr)\n",
    "    for k,j in enumerate(cc):\n",
    "        for i in rr[k]:\n",
    "            #print(heightMatrix[j],heightMatrix[i])\n",
    "            lidL,tL,oidL,rL,dL,iL = heightMatrix[j]\n",
    "            lid,t,oid,r,d,i = heightMatrix[i]\n",
    "            if(lid!=lidL):\n",
    "                if((lid > lidL) or (oid==lidL and r==1)):\n",
    "                    lid = lidL\n",
    "                    t,oid,r = 0,0,0\n",
    "                    d = dL + 1\n",
    "                    heightMatrix[i] = [lid,t,oid,r,d,i]\n",
    "            #print(heightMatrix[i])\n",
    "    return heightMatrix"
   ]
  },
  {
   "cell_type": "code",
   "execution_count": 9,
   "metadata": {},
   "outputs": [],
   "source": [
    "rg1Q2 = [[0,0,0,0,0,0,0,0],\n",
    "    [1,0,0,1,0,0,0,0],\n",
    "    [0,0,0,0,0,0,0,0],\n",
    "    [1,0,0,0,0,0,0,0],\n",
    "    [0,0,0,0,0,1,0,0],\n",
    "    [0,0,0,0,0,0,0,0],\n",
    "    [0,0,0,0,0,0,0,1],\n",
    "    [0,0,0,0,0,1,0,0]]\n",
    "arg2Q2 = [[0,-1,-1,-1,0,0],\n",
    "    [5,2,0,1,0,1],\n",
    "    [2,-1,-1,-1,0,2],\n",
    "    [5,2,0,1,-1,3],\n",
    "    [5,0,0,0,1,4],\n",
    "    [5,-1,-1,-1,0,5],\n",
    "    [5,0,0,0,2,6],\n",
    "    [5,0,0,0,1,7]]\n",
    "    \n",
    "arg3Q2 = 0"
   ]
  },
  {
   "cell_type": "code",
   "execution_count": 10,
   "metadata": {},
   "outputs": [
    {
     "name": "stdout",
     "output_type": "stream",
     "text": [
      "[0, 1, 3] [[1, 3], [], [1]]\n"
     ]
    },
    {
     "data": {
      "text/plain": [
       "[[0, -1, -1, -1, 0, 0],\n",
       " [0, 0, 0, 0, 1, 1],\n",
       " [2, -1, -1, -1, 0, 2],\n",
       " [0, 0, 0, 0, 1, 3],\n",
       " [5, 0, 0, 0, 1, 4],\n",
       " [5, -1, -1, -1, 0, 5],\n",
       " [5, 0, 0, 0, 2, 6],\n",
       " [5, 0, 0, 0, 1, 7]]"
      ]
     },
     "execution_count": 10,
     "metadata": {},
     "output_type": "execute_result"
    }
   ],
   "source": [
    "LEG1(rg1Q2,arg2Q2,arg3Q2)"
   ]
  },
  {
   "cell_type": "code",
   "execution_count": 11,
   "metadata": {},
   "outputs": [],
   "source": [
    "#arguments for Q3\n",
    "arg1Q3 = [[0,0,0,0,0,0,0,0],\n",
    "    [1,0,0,1,0,0,0,0],\n",
    "    [0,0,0,0,0,0,0,0],\n",
    "    [1,0,0,0,0,0,0,0],\n",
    "    [0,0,0,0,0,0,0,0],\n",
    "    [0,0,0,0,1,0,0,0],\n",
    "    [0,0,0,0,0,0,0,1],\n",
    "    [0,0,0,0,0,1,0,0]]\n",
    "arg2Q3 = [[0,-1,-1,-1,0,0],\n",
    "    [0,0,0,0,1,1],\n",
    "    [2,-1,-1,-1,0,2],\n",
    "    [0,0,0,0,1,3],\n",
    "    [5,0,0,0,1,4],\n",
    "    [5,-1,-1,-1,0,5],\n",
    "    [5,0,0,0,2,6],\n",
    "    [5,0,0,0,1,7]]\n",
    "    #link from F(5) to E(4)\n",
    "arg3Q3 = [[0,0,0,0,0,0,0,0],\n",
    "    [1,0,0,1,0,0,0,0],\n",
    "    [0,0,0,0,0,0,0,0],\n",
    "    [1,0,0,0,0,0,0,0],\n",
    "    [0,1,0,0,0,0,0,0],\n",
    "    [0,0,0,0,1,0,0,0],\n",
    "    [0,0,0,0,0,0,0,1],\n",
    "    [0,0,0,0,0,1,0,0]]\n",
    "    #sample output for Q3\n",
    "answerQ3 = [[0,-1,-1,-1,0,0],\n",
    "    [0,0,0,0,1,1],\n",
    "    [2,-1,-1,-1,0,2],\n",
    "    [0,0,0,0,1,3],\n",
    "    [0,0,0,0,2,4],\n",
    "    [0,0,0,0,3,5],\n",
    "    [0,0,0,0,4,6],\n",
    "    [0,0,0,0,5,7]]"
   ]
  },
  {
   "cell_type": "code",
   "execution_count": 22,
   "metadata": {},
   "outputs": [],
   "source": [
    "def LEG2(oDAG, heightMatrix, nDAG):\n",
    "    diffMatrix = np.array(nDAG)-np.array(oDAG)\n",
    "    newLinks = np.nonzero(diffMatrix)\n",
    "    cc,rr = findConnectedComponent(newLinks[1][0],nDAG)\n",
    "    print(cc,rr)\n",
    "    for k,j in enumerate(cc):\n",
    "        for i in rr[k]:\n",
    "            print(heightMatrix[j],heightMatrix[i])\n",
    "            lidL,tL,oidL,rL,dL,iL = heightMatrix[j]\n",
    "            lid,t,oid,r,d,i = heightMatrix[i]\n",
    "            if(lid!=lidL):\n",
    "                if((lid > lidL) or (oid==lidL and r==1)):\n",
    "                    lid = lidL\n",
    "                    t,oid,r = 0,0,0\n",
    "                    d = dL + 1\n",
    "                    heightMatrix[i] = [lid,t,oid,r,d,i]\n",
    "            if(noOutGoingLinks(i,nDAG)):\n",
    "                #caseB\n",
    "                #print(i,j)\n",
    "    return heightMatrix"
   ]
  },
  {
   "cell_type": "code",
   "execution_count": 23,
   "metadata": {},
   "outputs": [
    {
     "name": "stdout",
     "output_type": "stream",
     "text": [
      "[1, 4, 5, 7, 6] [[4], [5], [7], [6], []]\n",
      "[0, 0, 0, 0, 1, 1] [5, 0, 0, 0, 1, 4]\n",
      "[0, 0, 0, 0, 2, 4] [5, -1, -1, -1, 0, 5]\n",
      "[0, 0, 0, 0, 3, 5] [5, 0, 0, 0, 1, 7]\n",
      "[0, 0, 0, 0, 4, 7] [5, 0, 0, 0, 2, 6]\n"
     ]
    },
    {
     "data": {
      "text/plain": [
       "[[0, -1, -1, -1, 0, 0],\n",
       " [0, 0, 0, 0, 1, 1],\n",
       " [2, -1, -1, -1, 0, 2],\n",
       " [0, 0, 0, 0, 1, 3],\n",
       " [0, 0, 0, 0, 2, 4],\n",
       " [0, 0, 0, 0, 3, 5],\n",
       " [0, 0, 0, 0, 5, 6],\n",
       " [0, 0, 0, 0, 4, 7]]"
      ]
     },
     "execution_count": 23,
     "metadata": {},
     "output_type": "execute_result"
    }
   ],
   "source": [
    "LEG2(arg1Q3,arg2Q3,arg3Q3)"
   ]
  },
  {
   "cell_type": "code",
   "execution_count": null,
   "metadata": {},
   "outputs": [],
   "source": []
  },
  {
   "cell_type": "code",
   "execution_count": null,
   "metadata": {},
   "outputs": [],
   "source": []
  }
 ],
 "metadata": {
  "kernelspec": {
   "display_name": "Python 3",
   "language": "python",
   "name": "python3"
  },
  "language_info": {
   "codemirror_mode": {
    "name": "ipython",
    "version": 3
   },
   "file_extension": ".py",
   "mimetype": "text/x-python",
   "name": "python",
   "nbconvert_exporter": "python",
   "pygments_lexer": "ipython3",
   "version": "3.7.4"
  }
 },
 "nbformat": 4,
 "nbformat_minor": 2
}
